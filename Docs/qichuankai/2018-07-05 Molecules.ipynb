{
 "cells": [
  {
   "cell_type": "code",
   "execution_count": 1,
   "metadata": {
    "collapsed": true
   },
   "outputs": [
    {
     "name": "stdout",
     "output_type": "stream",
     "text": [
      "Full Formula (H4 C1)\nReduced Formula: H4C\nCharge = 0, Spin Mult = 1\nSites (5)\n0 C     0.000000     0.000000     0.000000\n1 H     0.000000     0.000000     1.089000\n2 H     1.026719     0.000000    -0.363000\n3 H    -0.513360    -0.889165    -0.363000\n4 H    -0.513360     0.889165    -0.363000\n"
     ]
    }
   ],
   "source": [
    "from pymatgen import Molecule\n",
    "# Create a methane molecule.\n",
    "coords = [[0.000000, 0.000000, 0.000000],\n",
    "          [0.000000, 0.000000, 1.089000],\n",
    "          [1.026719, 0.000000, -0.363000],\n",
    "          [-0.513360, -0.889165, -0.363000],\n",
    "          [-0.513360, 0.889165, -0.363000]]\n",
    "mol = Molecule([\"C\", \"H\", \"H\", \"H\", \"H\"], coords)\n",
    "print(mol)"
   ]
  },
  {
   "cell_type": "heading",
   "metadata": {},
   "level": 1,
   "source": [
    "Full Formula (H4 C1)\n",
    "Reduced Formula: H4C\n",
    "Charge = 0, Spin Mult = 1\n",
    "Sites (5)\n",
    "0 C     0.000000     0.000000     0.000000\n",
    "1 H     0.000000     0.000000     1.089000\n",
    "2 H     1.026719     0.000000    -0.363000\n",
    "3 H    -0.513360    -0.889165    -0.363000\n",
    "4 H    -0.513360     0.889165    -0.363000"
   ]
  },
  {
   "cell_type": "markdown",
   "metadata": {},
   "source": [
    "\n"
   ]
  },
  {
   "cell_type": "markdown",
   "metadata": {},
   "source": [
    "在这里首先定义甲烷分子，之前赵纹萱介绍的矩阵构建分子的分子式为同一种方式，包括分子的化学式和分子的结构"
   ]
  },
  {
   "cell_type": "code",
   "execution_count": 2,
   "metadata": {},
   "outputs": [
    {
     "name": "stdout",
     "output_type": "stream",
     "text": [
      "[0.0, 0.0, 0.0] C\n[0.0, 0.0, 1.089] H\nFull Formula (H3 C1)\nReduced Formula: H3C\nCharge = 0, Spin Mult = 2\nSites (4)\n0 C     0.000000     0.000000     0.000000\n1 H     1.026719     0.000000    -0.363000\n2 H    -0.513360    -0.889165    -0.363000\n3 H    -0.513360     0.889165    -0.363000\nFull Formula (H1)\nReduced Formula: H2\nCharge = 0, Spin Mult = 2\nSites (1)\n0 H     0.000000     0.000000     1.089000\n[(Site: H (0.0000, 0.0000, 1.0890), 1.089), (Site: H (1.0267, 0.0000, -0.3630), 1.0889999563640946), (Site: H (-0.5134, -0.8892, -0.3630), 1.0890004071739368), (Site: H (-0.5134, 0.8892, -0.3630), 1.0890004071739368)]\n"
     ]
    }
   ],
   "source": [
    "# A Molecule is simply a list of Sites.\n",
    "print(mol[0])\n",
    "print(mol[1])\n",
    "# Break a Molecule into two by breaking a bond.\n",
    "for frag in mol.break_bond(0, 1):\n",
    "    print(frag)\n",
    "# Getting neighbors that are within 3 angstroms from C atom.\n",
    "print(mol.get_neighbors(mol[0], 3))"
   ]
  },
  {
   "cell_type": "heading",
   "metadata": {},
   "level": 1,
   "source": [
    "[0.0, 0.0, 0.0] C\n",
    "[0.0, 0.0, 1.089] H\n",
    "Full Formula (H3 C1)\n",
    "Reduced Formula: H3C\n",
    "Charge = 0, Spin Mult = 2\n",
    "Sites (4)\n",
    "0 C     0.000000     0.000000     0.000000\n",
    "1 H     1.026719     0.000000    -0.363000\n",
    "2 H    -0.513360    -0.889165    -0.363000\n",
    "3 H    -0.513360     0.889165    -0.363000\n",
    "Full Formula (H1)\n",
    "Reduced Formula: H2\n",
    "Charge = 0, Spin Mult = 2\n",
    "Sites (1)\n",
    "0 H     0.000000     0.000000     1.089000\n",
    "[(Site: H (0.0000, 0.0000, 1.0890), 1.089), (Site: H (1.0267, 0.0000, -0.3630), 1.0889999563640946), (Site: H (-0.5134, -0.8892, -0.3630), 1.0890004071739368), (Site: H (-0.5134, 0.8892, -0.3630), 1.0890004071739368)]"
   ]
  },
  {
   "cell_type": "markdown",
   "metadata": {},
   "source": [
    "然后将甲烷分子当成一个站点，然后通过break_bond（）来打断连接两个碳原子之间的化学键。之后get_neighbors选择出两个碳原子之间angstroms为3的原子（angstroms为特定两个原子之间的角度 3为一种角度的计量单位）"
   ]
  },
  {
   "cell_type": "code",
   "execution_count": 3,
   "metadata": {},
   "outputs": [
    {
     "name": "stdout",
     "output_type": "stream",
     "text": [
      "[Covalent bond between [0.0, 0.0, 0.0] C and [0.0, 0.0, 1.089] H, Covalent bond between [0.0, 0.0, 0.0] C and [1.026719, 0.0, -0.363] H, Covalent bond between [0.0, 0.0, 0.0] C and [-0.51336, -0.889165, -0.363] H, Covalent bond between [0.0, 0.0, 0.0] C and [-0.51336, 0.889165, -0.363] H]\nFull Formula (H4 C1)\nReduced Formula: H4C\nabc   :  10.000000  10.000000  10.000000\nangles:  90.000000  90.000000  90.000000\nSites (5)\n  #  SP           a         b       c\n---  ----  --------  --------  ------\n  0  H     0.5       0.5       0.6089\n  1  H     0.602672  0.5       0.4637\n  2  H     0.448664  0.411083  0.4637\n  3  H     0.448664  0.588917  0.4637\n  4  C     0.5       0.5       0.5\n"
     ]
    }
   ],
   "source": [
    "#Detecting bonds\n",
    "print(mol.get_covalent_bonds())\n",
    "# If you need to run the molecule in a box with a periodic boundary condition\n",
    "# code, you can generate the boxed structure as follows (in a 10Ax10Ax10A box)\n",
    "structure = mol.get_boxed_structure(10, 10, 10)\n",
    "print(structure)"
   ]
  },
  {
   "cell_type": "heading",
   "metadata": {},
   "level": 1,
   "source": [
    "Full Formula (H4 C1)\n",
    "Reduced Formula: H4C\n",
    "abc   :  10.000000  10.000000  10.000000\n",
    "angles:  90.000000  90.000000  90.000000\n",
    "Sites (5)\n",
    "  #  SP           a         b       c\n",
    "---  ----  --------  --------  ------\n",
    "  0  H     0.5       0.5       0.6089\n",
    "  1  H     0.602672  0.5       0.4637\n",
    "  2  H     0.448664  0.411083  0.4637\n",
    "  3  H     0.448664  0.588917  0.4637\n",
    "  4  C     0.5       0.5       0.5\n"
   ]
  },
  {
   "cell_type": "markdown",
   "metadata": {},
   "source": [
    "如果你需要在一个具有周期性边界条件的盒子中运行分子代码，您可以生成装箱mol.get_boxed_structure，后面的3个10为box的空间大小"
   ]
  },
  {
   "cell_type": "markdown",
   "metadata": {},
   "source": [
    "在此之前需要get_covalent_bonds进行检测。（执行程序和运行结果可以在example->qichuankai中查看）"
   ]
  },
  {
   "cell_type": "code",
   "execution_count": null,
   "metadata": {},
   "outputs": [],
   "source": [
    ""
   ]
  }
 ],
 "metadata": {
  "kernelspec": {
   "display_name": "Python 2",
   "language": "python",
   "name": "python2"
  },
  "language_info": {
   "codemirror_mode": {
    "name": "ipython",
    "version": 2
   },
   "file_extension": ".py",
   "mimetype": "text/x-python",
   "name": "python",
   "nbconvert_exporter": "python",
   "pygments_lexer": "ipython2",
   "version": "2.7.6"
  }
 },
 "nbformat": 4,
 "nbformat_minor": 0
}
